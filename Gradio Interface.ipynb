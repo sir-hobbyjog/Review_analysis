{
 "cells": [
  {
   "cell_type": "code",
   "execution_count": 8,
   "metadata": {},
   "outputs": [],
   "source": [
    "import json\n",
    "import numpy as np\n",
    "from sklearn.feature_extraction.text import TfidfVectorizer\n",
    "from sklearn.metrics.pairwise import cosine_similarity\n",
    "import gradio as gr\n",
    "import os\n"
   ]
  },
  {
   "cell_type": "code",
   "execution_count": 9,
   "metadata": {},
   "outputs": [],
   "source": [
    "# Load the summaries from the JSON file\n",
    "with open('movie_summaries_final.json', 'r') as f:\n",
    "    movie_data = json.load(f)\n",
    "\n",
    "def get_movie_summary(movie_title):\n",
    "    # Fetch the summary for the given movie title\n",
    "    summary = movie_data.get(movie_title, \"Sorry, no summary available for this movie.\")\n",
    "    return summary\n",
    "# Get a list of movie titles for the dropdown\n",
    "movie_titles = list(movie_data.keys())\n",
    "\n",
    "summaries = [movie_data[title] for title in movie_titles]"
   ]
  },
  {
   "cell_type": "code",
   "execution_count": 10,
   "metadata": {},
   "outputs": [],
   "source": [
    "# Vectorize summaries using TF-IDF\n",
    "vectorizer = TfidfVectorizer(stop_words='english')\n",
    "tfidf_matrix = vectorizer.fit_transform(summaries)\n",
    "\n",
    "# Compute cosine similarity matrix\n",
    "cosine_sim = cosine_similarity(tfidf_matrix, tfidf_matrix)\n",
    "\n",
    "# Recommendation function\n",
    "def recommend_movies(movie_title, num_recommendations=5):\n",
    "    if movie_title not in movie_titles:\n",
    "        return \"Movie not found in the database.\"\n",
    "    \n",
    "    movie_idx = movie_titles.index(movie_title)\n",
    "    sim_scores = list(enumerate(cosine_sim[movie_idx]))\n",
    "    sim_scores = sorted(sim_scores, key=lambda x: x[1], reverse=True)\n",
    "    sim_scores = sim_scores[1:num_recommendations+1]  # Exclude the movie itself\n",
    "    \n",
    "    recommended_titles = [movie_titles[i] for i, _ in sim_scores]\n",
    "    recommendations = {title: movie_data[title] for title in recommended_titles}\n",
    "    return recommendations\n",
    "\n",
    "def display_recommendations(movie_title):\n",
    "    recommendations = recommend_movies(movie_title)\n",
    "    if isinstance(recommendations, str):\n",
    "        return recommendations\n",
    "    else:\n",
    "        output = f\"If you like, {movie_title}, you may also like: \\n\\n\"\n",
    "        for title, summary in recommendations.items():\n",
    "            output += f\"**{title}**\\n\\n\"\n",
    "        return output"
   ]
  },
  {
   "cell_type": "code",
   "execution_count": 12,
   "metadata": {},
   "outputs": [
    {
     "name": "stdout",
     "output_type": "stream",
     "text": [
      "Running on local URL:  http://127.0.0.1:7864\n",
      "\n",
      "To create a public link, set `share=True` in `launch()`.\n"
     ]
    },
    {
     "data": {
      "text/html": [
       "<div><iframe src=\"http://127.0.0.1:7864/\" width=\"100%\" height=\"500\" allow=\"autoplay; camera; microphone; clipboard-read; clipboard-write;\" frameborder=\"0\" allowfullscreen></iframe></div>"
      ],
      "text/plain": [
       "<IPython.core.display.HTML object>"
      ]
     },
     "metadata": {},
     "output_type": "display_data"
    }
   ],
   "source": [
    "with gr.Blocks() as demo:\n",
    "    with gr.Row():\n",
    "        with gr.Column():\n",
    "            gr.Markdown(\"### Movie Review Summarizer\")\n",
    "            title_dropdown_summary = gr.Dropdown(choices=movie_titles, label=\"Select a movie title\")\n",
    "            summary_output = gr.Textbox(label=\"Movie Summary\")\n",
    "            summary_button = gr.Button(\"Get Summary\")\n",
    "            summary_button.click(fn=get_movie_summary, inputs=title_dropdown_summary, outputs=summary_output)\n",
    "        \n",
    "        with gr.Column():\n",
    "            gr.Markdown(\"### Movie Recommendations\")\n",
    "            recommendation_output = gr.Markdown(label=\"Recommendations\")\n",
    "            summary_button.click(fn=display_recommendations, inputs=title_dropdown_summary, outputs=recommendation_output)\n",
    "    \n",
    "    demo.launch(allowed_paths=[os.path.dirname('film_reel.png')])"
   ]
  }
 ],
 "metadata": {
  "kernelspec": {
   "display_name": "dev",
   "language": "python",
   "name": "python3"
  },
  "language_info": {
   "codemirror_mode": {
    "name": "ipython",
    "version": 3
   },
   "file_extension": ".py",
   "mimetype": "text/x-python",
   "name": "python",
   "nbconvert_exporter": "python",
   "pygments_lexer": "ipython3",
   "version": "3.10.13"
  }
 },
 "nbformat": 4,
 "nbformat_minor": 2
}
