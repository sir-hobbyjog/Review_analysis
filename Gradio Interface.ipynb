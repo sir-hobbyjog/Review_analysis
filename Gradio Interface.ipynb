{
 "cells": [
  {
   "cell_type": "code",
   "execution_count": 4,
   "metadata": {},
   "outputs": [],
   "source": [
    "import json\n",
    "# !pip install gradio\n",
    "import gradio as gr\n"
   ]
  },
  {
   "cell_type": "code",
   "execution_count": 5,
   "metadata": {},
   "outputs": [],
   "source": [
    "import os"
   ]
  },
  {
   "cell_type": "code",
   "execution_count": 6,
   "metadata": {},
   "outputs": [],
   "source": [
    "# Load the summaries from the JSON file\n",
    "with open('movie_summaries.json', 'r') as f:\n",
    "    movie_summaries = json.load(f)\n",
    "\n",
    "def get_movie_summary(movie_title):\n",
    "    # Fetch the summary for the given movie title\n",
    "    summary = movie_summaries.get(movie_title, \"Sorry, no summary available for this movie.\")\n",
    "    return summary\n",
    "# Get a list of movie titles for the dropdown\n",
    "movie_titles = list(movie_summaries.keys())"
   ]
  },
  {
   "cell_type": "code",
   "execution_count": 8,
   "metadata": {},
   "outputs": [
    {
     "name": "stdout",
     "output_type": "stream",
     "text": [
      "Running on local URL:  http://127.0.0.1:7861\n",
      "\n",
      "To create a public link, set `share=True` in `launch()`.\n"
     ]
    },
    {
     "data": {
      "text/html": [
       "<div><iframe src=\"http://127.0.0.1:7861/\" width=\"100%\" height=\"500\" allow=\"autoplay; camera; microphone; clipboard-read; clipboard-write;\" frameborder=\"0\" allowfullscreen></iframe></div>"
      ],
      "text/plain": [
       "<IPython.core.display.HTML object>"
      ]
     },
     "metadata": {},
     "output_type": "display_data"
    },
    {
     "data": {
      "text/plain": []
     },
     "execution_count": 8,
     "metadata": {},
     "output_type": "execute_result"
    }
   ],
   "source": [
    "# Create a Gradio interface\n",
    "title_dropdown = gr.Dropdown(choices=movie_titles, label=\"Select a movie title\")\n",
    "summary_output = gr.Textbox(label=\"Movie Summary\")\n",
    "\n",
    "interface = gr.Interface(fn=get_movie_summary, \n",
    "                         inputs=title_dropdown, \n",
    "                         outputs=summary_output, \n",
    "                         title=\"Movie Review Summarizer\", \n",
    "                         theme=\"base\",\n",
    "                         css= \".gradio-container {background: url('file=film_reel.png'), #f0f0f0; background-size: cover;}\",\n",
    "                         description=\"Select a movie title to get a summary of reviews.\")\n",
    "\n",
    "# Launch the interface\n",
    "interface.launch(allowed_paths=[os.path.dirname('film_reel.png')])"
   ]
  }
 ],
 "metadata": {
  "kernelspec": {
   "display_name": "dev",
   "language": "python",
   "name": "python3"
  },
  "language_info": {
   "codemirror_mode": {
    "name": "ipython",
    "version": 3
   },
   "file_extension": ".py",
   "mimetype": "text/x-python",
   "name": "python",
   "nbconvert_exporter": "python",
   "pygments_lexer": "ipython3",
   "version": "3.10.14"
  }
 },
 "nbformat": 4,
 "nbformat_minor": 2
}
