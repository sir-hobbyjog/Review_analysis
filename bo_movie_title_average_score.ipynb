{
 "cells": [
  {
   "cell_type": "code",
   "execution_count": 7,
   "metadata": {},
   "outputs": [],
   "source": [
    "# Import Dependencies\n",
    "import os\n",
    "import pandas as pd\n",
    "import numpy as np\n"
   ]
  },
  {
   "cell_type": "code",
   "execution_count": 8,
   "metadata": {},
   "outputs": [
    {
     "data": {
      "text/html": [
       "<div>\n",
       "<style scoped>\n",
       "    .dataframe tbody tr th:only-of-type {\n",
       "        vertical-align: middle;\n",
       "    }\n",
       "\n",
       "    .dataframe tbody tr th {\n",
       "        vertical-align: top;\n",
       "    }\n",
       "\n",
       "    .dataframe thead th {\n",
       "        text-align: right;\n",
       "    }\n",
       "</style>\n",
       "<table border=\"1\" class=\"dataframe\">\n",
       "  <thead>\n",
       "    <tr style=\"text-align: right;\">\n",
       "      <th></th>\n",
       "      <th>review_score</th>\n",
       "      <th>review_content</th>\n",
       "      <th>movie_title</th>\n",
       "      <th>review_score_converted</th>\n",
       "    </tr>\n",
       "  </thead>\n",
       "  <tbody>\n",
       "    <tr>\n",
       "      <th>0</th>\n",
       "      <td>NaN</td>\n",
       "      <td>A fantasy adventure that fuses Greek mythology...</td>\n",
       "      <td>Percy Jackson &amp; the Olympians: The Lightning T...</td>\n",
       "      <td>NaN</td>\n",
       "    </tr>\n",
       "    <tr>\n",
       "      <th>1</th>\n",
       "      <td>NaN</td>\n",
       "      <td>Uma Thurman as Medusa, the gorgon with a coiff...</td>\n",
       "      <td>Percy Jackson &amp; the Olympians: The Lightning T...</td>\n",
       "      <td>NaN</td>\n",
       "    </tr>\n",
       "    <tr>\n",
       "      <th>2</th>\n",
       "      <td>NaN</td>\n",
       "      <td>With a top-notch cast and dazzling special eff...</td>\n",
       "      <td>Percy Jackson &amp; the Olympians: The Lightning T...</td>\n",
       "      <td>NaN</td>\n",
       "    </tr>\n",
       "    <tr>\n",
       "      <th>3</th>\n",
       "      <td>3.5/5</td>\n",
       "      <td>Whether audiences will get behind The Lightnin...</td>\n",
       "      <td>Percy Jackson &amp; the Olympians: The Lightning T...</td>\n",
       "      <td>70.0</td>\n",
       "    </tr>\n",
       "    <tr>\n",
       "      <th>4</th>\n",
       "      <td>NaN</td>\n",
       "      <td>What's really lacking in The Lightning Thief i...</td>\n",
       "      <td>Percy Jackson &amp; the Olympians: The Lightning T...</td>\n",
       "      <td>NaN</td>\n",
       "    </tr>\n",
       "  </tbody>\n",
       "</table>\n",
       "</div>"
      ],
      "text/plain": [
       "  review_score                                     review_content  \\\n",
       "0          NaN  A fantasy adventure that fuses Greek mythology...   \n",
       "1          NaN  Uma Thurman as Medusa, the gorgon with a coiff...   \n",
       "2          NaN  With a top-notch cast and dazzling special eff...   \n",
       "3        3.5/5  Whether audiences will get behind The Lightnin...   \n",
       "4          NaN  What's really lacking in The Lightning Thief i...   \n",
       "\n",
       "                                         movie_title  review_score_converted  \n",
       "0  Percy Jackson & the Olympians: The Lightning T...                     NaN  \n",
       "1  Percy Jackson & the Olympians: The Lightning T...                     NaN  \n",
       "2  Percy Jackson & the Olympians: The Lightning T...                     NaN  \n",
       "3  Percy Jackson & the Olympians: The Lightning T...                    70.0  \n",
       "4  Percy Jackson & the Olympians: The Lightning T...                     NaN  "
      ]
     },
     "execution_count": 8,
     "metadata": {},
     "output_type": "execute_result"
    }
   ],
   "source": [
    "#load the data\n",
    "file_path = \"rt_reviews_with_names_converted_newreviewscore.csv\"\n",
    "\n",
    "# Read the data\n",
    "df = pd.read_csv(file_path)\n",
    "\n",
    "df.head()"
   ]
  },
  {
   "cell_type": "code",
   "execution_count": 10,
   "metadata": {},
   "outputs": [
    {
     "name": "stdout",
     "output_type": "stream",
     "text": [
      "                                             movie_title  average_score\n",
      "0                                  !Women Art Revolution      69.333333\n",
      "1                                                #Horror      51.600000\n",
      "2                 #Unfit: The Psychology of Donald Trump      74.083333\n",
      "3                                $ (Dollars) (The Heist)      77.500000\n",
      "4                                                  $9.99      65.792683\n",
      "...                                                  ...            ...\n",
      "17095                         xXx: Return of Xander Cage      50.412281\n",
      "17096                            xXx: State of the Union      42.650862\n",
      "17097                   Átame! (Tie Me Up! Tie Me Down!)      61.020833\n",
      "17098             Évocateur: The Morton Downey Jr. Movie      69.204545\n",
      "17099  Ôritsu uchûgun Oneamisu no tsubasa (Royal Spac...      66.785714\n",
      "\n",
      "[17100 rows x 2 columns]\n"
     ]
    }
   ],
   "source": [
    "def calculate_average_scores(df):\n",
    "    # Group by movie title and calculate the mean score for each group\n",
    "    average_scores = df.groupby('movie_title')['review_score_converted'].mean().reset_index()\n",
    "    \n",
    "    # Rename the columns for clarity\n",
    "    average_scores.columns = ['movie_title', 'average_score']\n",
    "    \n",
    "    return average_scores\n",
    "\n",
    "# Example usage:\n",
    "# Assuming you have a DataFrame named df with the appropriate columns\n",
    "# df = pd.DataFrame({\n",
    "#     'movie_title': ['Movie A', 'Movie A', 'Movie B', 'Movie B', 'Movie C'],\n",
    "#     'score': [4.5, 3.5, 4.0, 2.0, 5.0]\n",
    "# })\n",
    "\n",
    "# Get the average scores\n",
    "average_scores_df = calculate_average_scores(df)\n",
    "\n",
    "# Display the result\n",
    "print(average_scores_df)"
   ]
  },
  {
   "cell_type": "code",
   "execution_count": 11,
   "metadata": {},
   "outputs": [],
   "source": [
    "# Save the result to a CSV file\n",
    "\n",
    "average_scores_df.to_csv('average_scores.csv', index=False)"
   ]
  }
 ],
 "metadata": {
  "kernelspec": {
   "display_name": "base",
   "language": "python",
   "name": "python3"
  },
  "language_info": {
   "codemirror_mode": {
    "name": "ipython",
    "version": 3
   },
   "file_extension": ".py",
   "mimetype": "text/x-python",
   "name": "python",
   "nbconvert_exporter": "python",
   "pygments_lexer": "ipython3",
   "version": "3.11.5"
  }
 },
 "nbformat": 4,
 "nbformat_minor": 2
}
