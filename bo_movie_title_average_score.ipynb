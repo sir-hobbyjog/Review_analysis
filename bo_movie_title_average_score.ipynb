{
 "cells": [
  {
   "cell_type": "code",
   "execution_count": 23,
   "metadata": {},
   "outputs": [],
   "source": [
    "# Import Dependencies\n",
    "import os\n",
    "import pandas as pd\n",
    "import numpy as np\n"
   ]
  },
  {
   "cell_type": "code",
   "execution_count": 24,
   "metadata": {},
   "outputs": [
    {
     "data": {
      "text/html": [
       "<div>\n",
       "<style scoped>\n",
       "    .dataframe tbody tr th:only-of-type {\n",
       "        vertical-align: middle;\n",
       "    }\n",
       "\n",
       "    .dataframe tbody tr th {\n",
       "        vertical-align: top;\n",
       "    }\n",
       "\n",
       "    .dataframe thead th {\n",
       "        text-align: right;\n",
       "    }\n",
       "</style>\n",
       "<table border=\"1\" class=\"dataframe\">\n",
       "  <thead>\n",
       "    <tr style=\"text-align: right;\">\n",
       "      <th></th>\n",
       "      <th>review_score</th>\n",
       "      <th>review_content</th>\n",
       "      <th>movie_title</th>\n",
       "      <th>review_score_converted</th>\n",
       "    </tr>\n",
       "  </thead>\n",
       "  <tbody>\n",
       "    <tr>\n",
       "      <th>0</th>\n",
       "      <td>NaN</td>\n",
       "      <td>A fantasy adventure that fuses Greek mythology...</td>\n",
       "      <td>Percy Jackson &amp; the Olympians: The Lightning T...</td>\n",
       "      <td>NaN</td>\n",
       "    </tr>\n",
       "    <tr>\n",
       "      <th>1</th>\n",
       "      <td>NaN</td>\n",
       "      <td>Uma Thurman as Medusa, the gorgon with a coiff...</td>\n",
       "      <td>Percy Jackson &amp; the Olympians: The Lightning T...</td>\n",
       "      <td>NaN</td>\n",
       "    </tr>\n",
       "    <tr>\n",
       "      <th>2</th>\n",
       "      <td>NaN</td>\n",
       "      <td>With a top-notch cast and dazzling special eff...</td>\n",
       "      <td>Percy Jackson &amp; the Olympians: The Lightning T...</td>\n",
       "      <td>NaN</td>\n",
       "    </tr>\n",
       "    <tr>\n",
       "      <th>3</th>\n",
       "      <td>3.5/5</td>\n",
       "      <td>Whether audiences will get behind The Lightnin...</td>\n",
       "      <td>Percy Jackson &amp; the Olympians: The Lightning T...</td>\n",
       "      <td>70.0</td>\n",
       "    </tr>\n",
       "    <tr>\n",
       "      <th>4</th>\n",
       "      <td>NaN</td>\n",
       "      <td>What's really lacking in The Lightning Thief i...</td>\n",
       "      <td>Percy Jackson &amp; the Olympians: The Lightning T...</td>\n",
       "      <td>NaN</td>\n",
       "    </tr>\n",
       "  </tbody>\n",
       "</table>\n",
       "</div>"
      ],
      "text/plain": [
       "  review_score                                     review_content  \\\n",
       "0          NaN  A fantasy adventure that fuses Greek mythology...   \n",
       "1          NaN  Uma Thurman as Medusa, the gorgon with a coiff...   \n",
       "2          NaN  With a top-notch cast and dazzling special eff...   \n",
       "3        3.5/5  Whether audiences will get behind The Lightnin...   \n",
       "4          NaN  What's really lacking in The Lightning Thief i...   \n",
       "\n",
       "                                         movie_title  review_score_converted  \n",
       "0  Percy Jackson & the Olympians: The Lightning T...                     NaN  \n",
       "1  Percy Jackson & the Olympians: The Lightning T...                     NaN  \n",
       "2  Percy Jackson & the Olympians: The Lightning T...                     NaN  \n",
       "3  Percy Jackson & the Olympians: The Lightning T...                    70.0  \n",
       "4  Percy Jackson & the Olympians: The Lightning T...                     NaN  "
      ]
     },
     "execution_count": 24,
     "metadata": {},
     "output_type": "execute_result"
    }
   ],
   "source": [
    "#load the data\n",
    "file_path = \"rt_reviews_with_names_converted_newreviewscore.csv\"\n",
    "\n",
    "# Read the data\n",
    "df = pd.read_csv(file_path)\n",
    "\n",
    "df.head()"
   ]
  },
  {
   "cell_type": "code",
   "execution_count": 25,
   "metadata": {},
   "outputs": [
    {
     "data": {
      "text/html": [
       "<div>\n",
       "<style scoped>\n",
       "    .dataframe tbody tr th:only-of-type {\n",
       "        vertical-align: middle;\n",
       "    }\n",
       "\n",
       "    .dataframe tbody tr th {\n",
       "        vertical-align: top;\n",
       "    }\n",
       "\n",
       "    .dataframe thead th {\n",
       "        text-align: right;\n",
       "    }\n",
       "</style>\n",
       "<table border=\"1\" class=\"dataframe\">\n",
       "  <thead>\n",
       "    <tr style=\"text-align: right;\">\n",
       "      <th></th>\n",
       "      <th>review_score</th>\n",
       "      <th>review_content</th>\n",
       "      <th>movie_title</th>\n",
       "      <th>review_score_converted</th>\n",
       "    </tr>\n",
       "  </thead>\n",
       "  <tbody>\n",
       "    <tr>\n",
       "      <th>3</th>\n",
       "      <td>3.5/5</td>\n",
       "      <td>Whether audiences will get behind The Lightnin...</td>\n",
       "      <td>Percy Jackson &amp; the Olympians: The Lightning T...</td>\n",
       "      <td>70.0</td>\n",
       "    </tr>\n",
       "    <tr>\n",
       "      <th>6</th>\n",
       "      <td>1/4</td>\n",
       "      <td>Harry Potter knockoffs don't come more transpa...</td>\n",
       "      <td>Percy Jackson &amp; the Olympians: The Lightning T...</td>\n",
       "      <td>25.0</td>\n",
       "    </tr>\n",
       "    <tr>\n",
       "      <th>7</th>\n",
       "      <td>3.5/5</td>\n",
       "      <td>Percy Jackson isn't a great movie, but it's a ...</td>\n",
       "      <td>Percy Jackson &amp; the Olympians: The Lightning T...</td>\n",
       "      <td>70.0</td>\n",
       "    </tr>\n",
       "    <tr>\n",
       "      <th>8</th>\n",
       "      <td>B</td>\n",
       "      <td>Fun, brisk and imaginative</td>\n",
       "      <td>Percy Jackson &amp; the Olympians: The Lightning T...</td>\n",
       "      <td>75.0</td>\n",
       "    </tr>\n",
       "    <tr>\n",
       "      <th>9</th>\n",
       "      <td>3/5</td>\n",
       "      <td>Crammed with dragons, set-destroying fights an...</td>\n",
       "      <td>Percy Jackson &amp; the Olympians: The Lightning T...</td>\n",
       "      <td>60.0</td>\n",
       "    </tr>\n",
       "  </tbody>\n",
       "</table>\n",
       "</div>"
      ],
      "text/plain": [
       "  review_score                                     review_content  \\\n",
       "3        3.5/5  Whether audiences will get behind The Lightnin...   \n",
       "6          1/4  Harry Potter knockoffs don't come more transpa...   \n",
       "7        3.5/5  Percy Jackson isn't a great movie, but it's a ...   \n",
       "8            B                         Fun, brisk and imaginative   \n",
       "9          3/5  Crammed with dragons, set-destroying fights an...   \n",
       "\n",
       "                                         movie_title  review_score_converted  \n",
       "3  Percy Jackson & the Olympians: The Lightning T...                    70.0  \n",
       "6  Percy Jackson & the Olympians: The Lightning T...                    25.0  \n",
       "7  Percy Jackson & the Olympians: The Lightning T...                    70.0  \n",
       "8  Percy Jackson & the Olympians: The Lightning T...                    75.0  \n",
       "9  Percy Jackson & the Olympians: The Lightning T...                    60.0  "
      ]
     },
     "execution_count": 25,
     "metadata": {},
     "output_type": "execute_result"
    }
   ],
   "source": [
    "# Remove NaN values from the dataset\n",
    "df = df.dropna()\n",
    "\n",
    "# Display the first few rows of the dataset\n",
    "df.head()"
   ]
  },
  {
   "cell_type": "code",
   "execution_count": 26,
   "metadata": {},
   "outputs": [
    {
     "name": "stdout",
     "output_type": "stream",
     "text": [
      "                                             movie_title  average_score\n",
      "0                                  !Women Art Revolution      69.333333\n",
      "1                                                #Horror      51.600000\n",
      "2                 #Unfit: The Psychology of Donald Trump      74.083333\n",
      "3                                $ (Dollars) (The Heist)      77.500000\n",
      "4                                                  $9.99      65.833333\n",
      "...                                                  ...            ...\n",
      "17010                         xXx: Return of Xander Cage      50.412281\n",
      "17011                            xXx: State of the Union      42.683486\n",
      "17012                   Átame! (Tie Me Up! Tie Me Down!)      61.035714\n",
      "17013             Évocateur: The Morton Downey Jr. Movie      69.204545\n",
      "17014  Ôritsu uchûgun Oneamisu no tsubasa (Royal Spac...      67.916667\n",
      "\n",
      "[17015 rows x 2 columns]\n"
     ]
    }
   ],
   "source": [
    "def calculate_average_scores(df):\n",
    "    # Group by movie title and calculate the mean score for each group\n",
    "    average_scores = df.groupby('movie_title')['review_score_converted'].mean().reset_index()\n",
    "    \n",
    "    # Rename the columns for clarity\n",
    "    average_scores.columns = ['movie_title', 'average_score']\n",
    "    \n",
    "    return average_scores\n",
    "\n",
    "# Get the average scores\n",
    "average_scores_df = calculate_average_scores(df)\n",
    "\n",
    "# Display the result\n",
    "print(average_scores_df)"
   ]
  },
  {
   "cell_type": "code",
   "execution_count": 27,
   "metadata": {},
   "outputs": [],
   "source": [
    "# Save the result to a CSV file\n",
    "\n",
    "average_scores_df.to_csv('average_scores.csv', index=False)"
   ]
  }
 ],
 "metadata": {
  "kernelspec": {
   "display_name": "base",
   "language": "python",
   "name": "python3"
  },
  "language_info": {
   "codemirror_mode": {
    "name": "ipython",
    "version": 3
   },
   "file_extension": ".py",
   "mimetype": "text/x-python",
   "name": "python",
   "nbconvert_exporter": "python",
   "pygments_lexer": "ipython3",
   "version": "3.11.5"
  }
 },
 "nbformat": 4,
 "nbformat_minor": 2
}
