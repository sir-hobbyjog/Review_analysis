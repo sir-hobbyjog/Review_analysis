{
 "cells": [
  {
   "cell_type": "code",
   "execution_count": 1,
   "metadata": {},
   "outputs": [
    {
     "name": "stderr",
     "output_type": "stream",
     "text": [
      "/Users/karliebaxter/anaconda3/lib/python3.11/site-packages/pandas/core/arrays/masked.py:60: UserWarning: Pandas requires version '1.3.6' or newer of 'bottleneck' (version '1.3.5' currently installed).\n",
      "  from pandas.core import (\n"
     ]
    }
   ],
   "source": [
    "#import dependencies\n",
    "import pandas as pd\n",
    "from dotenv import load_dotenv\n",
    "import os\n"
   ]
  },
  {
   "cell_type": "code",
   "execution_count": 2,
   "metadata": {},
   "outputs": [],
   "source": [
    "load_dotenv(\"/Users/karliebaxter/Desktop/.env\")\n",
    "\n",
    "# Set the model name for our LLMs.\n",
    "OPENAI_MODEL = \"gpt-4o\"\n",
    "# Store the API key in a variable.\n",
    "OPENAI_API_KEY = os.getenv(\"OPENAI_API_KEY\")\n",
    "\n"
   ]
  },
  {
   "cell_type": "code",
   "execution_count": 3,
   "metadata": {},
   "outputs": [
    {
     "ename": "NameError",
     "evalue": "name 'ChatOpenAI' is not defined",
     "output_type": "error",
     "traceback": [
      "\u001b[0;31m---------------------------------------------------------------------------\u001b[0m",
      "\u001b[0;31mNameError\u001b[0m                                 Traceback (most recent call last)",
      "\u001b[1;32m/Users/karliebaxter/Downloads/M21_Starter_Code/Tinkering.ipynb Cell 3\u001b[0m line \u001b[0;36m1\n\u001b[0;32m----> <a href='vscode-notebook-cell:/Users/karliebaxter/Downloads/M21_Starter_Code/Tinkering.ipynb#W3sZmlsZQ%3D%3D?line=0'>1</a>\u001b[0m llm\u001b[39m=\u001b[39mChatOpenAI(openai_api_key\u001b[39m=\u001b[39mOPENAI_API_KEY, model_name\u001b[39m=\u001b[39mOPENAI_MODEL, temperature\u001b[39m=\u001b[39m\u001b[39m0.3\u001b[39m)\n",
      "\u001b[0;31mNameError\u001b[0m: name 'ChatOpenAI' is not defined"
     ]
    }
   ],
   "source": [
    "llm=ChatOpenAI(openai_api_key=OPENAI_API_KEY, model_name=OPENAI_MODEL, temperature=0.3)\n"
   ]
  },
  {
   "cell_type": "code",
   "execution_count": 5,
   "metadata": {},
   "outputs": [
    {
     "data": {
      "text/html": [
       "<div>\n",
       "<style scoped>\n",
       "    .dataframe tbody tr th:only-of-type {\n",
       "        vertical-align: middle;\n",
       "    }\n",
       "\n",
       "    .dataframe tbody tr th {\n",
       "        vertical-align: top;\n",
       "    }\n",
       "\n",
       "    .dataframe thead th {\n",
       "        text-align: right;\n",
       "    }\n",
       "</style>\n",
       "<table border=\"1\" class=\"dataframe\">\n",
       "  <thead>\n",
       "    <tr style=\"text-align: right;\">\n",
       "      <th></th>\n",
       "      <th>rotten_tomatoes_link</th>\n",
       "      <th>review_type</th>\n",
       "      <th>cleaned_review</th>\n",
       "      <th>movie_title</th>\n",
       "    </tr>\n",
       "  </thead>\n",
       "  <tbody>\n",
       "    <tr>\n",
       "      <th>0</th>\n",
       "      <td>m/0814255</td>\n",
       "      <td>Fresh</td>\n",
       "      <td>fantasy adventure fuse greek mythology contemp...</td>\n",
       "      <td>Percy Jackson &amp; the Olympians: The Lightning T...</td>\n",
       "    </tr>\n",
       "    <tr>\n",
       "      <th>1</th>\n",
       "      <td>m/0814255</td>\n",
       "      <td>Fresh</td>\n",
       "      <td>uma thurman medusa gorgon coiffure writhing sn...</td>\n",
       "      <td>Percy Jackson &amp; the Olympians: The Lightning T...</td>\n",
       "    </tr>\n",
       "    <tr>\n",
       "      <th>2</th>\n",
       "      <td>m/0814255</td>\n",
       "      <td>Fresh</td>\n",
       "      <td>topnotch cast dazzling special effect tide tee...</td>\n",
       "      <td>Percy Jackson &amp; the Olympians: The Lightning T...</td>\n",
       "    </tr>\n",
       "    <tr>\n",
       "      <th>3</th>\n",
       "      <td>m/0814255</td>\n",
       "      <td>Fresh</td>\n",
       "      <td>whether audience get behind lightning thief ha...</td>\n",
       "      <td>Percy Jackson &amp; the Olympians: The Lightning T...</td>\n",
       "    </tr>\n",
       "    <tr>\n",
       "      <th>4</th>\n",
       "      <td>m/0814255</td>\n",
       "      <td>Rotten</td>\n",
       "      <td>whats really lacking lightning thief genuine s...</td>\n",
       "      <td>Percy Jackson &amp; the Olympians: The Lightning T...</td>\n",
       "    </tr>\n",
       "    <tr>\n",
       "      <th>...</th>\n",
       "      <td>...</td>\n",
       "      <td>...</td>\n",
       "      <td>...</td>\n",
       "      <td>...</td>\n",
       "    </tr>\n",
       "    <tr>\n",
       "      <th>1130012</th>\n",
       "      <td>m/zulu_dawn</td>\n",
       "      <td>Rotten</td>\n",
       "      <td>NaN</td>\n",
       "      <td>Zulu Dawn</td>\n",
       "    </tr>\n",
       "    <tr>\n",
       "      <th>1130013</th>\n",
       "      <td>m/zulu_dawn</td>\n",
       "      <td>Fresh</td>\n",
       "      <td>seen today startling indictment british imperi...</td>\n",
       "      <td>Zulu Dawn</td>\n",
       "    </tr>\n",
       "    <tr>\n",
       "      <th>1130014</th>\n",
       "      <td>m/zulu_dawn</td>\n",
       "      <td>Fresh</td>\n",
       "      <td>rousing visual spectacle thats prequel cy endf...</td>\n",
       "      <td>Zulu Dawn</td>\n",
       "    </tr>\n",
       "    <tr>\n",
       "      <th>1130015</th>\n",
       "      <td>m/zulu_dawn</td>\n",
       "      <td>Rotten</td>\n",
       "      <td>simple twoact story prelude war war former con...</td>\n",
       "      <td>Zulu Dawn</td>\n",
       "    </tr>\n",
       "    <tr>\n",
       "      <th>1130016</th>\n",
       "      <td>m/zulu_dawn</td>\n",
       "      <td>Rotten</td>\n",
       "      <td>ride line pure artifact bygone eraone depicts ...</td>\n",
       "      <td>Zulu Dawn</td>\n",
       "    </tr>\n",
       "  </tbody>\n",
       "</table>\n",
       "<p>1130017 rows × 4 columns</p>\n",
       "</div>"
      ],
      "text/plain": [
       "        rotten_tomatoes_link review_type  \\\n",
       "0                  m/0814255       Fresh   \n",
       "1                  m/0814255       Fresh   \n",
       "2                  m/0814255       Fresh   \n",
       "3                  m/0814255       Fresh   \n",
       "4                  m/0814255      Rotten   \n",
       "...                      ...         ...   \n",
       "1130012          m/zulu_dawn      Rotten   \n",
       "1130013          m/zulu_dawn       Fresh   \n",
       "1130014          m/zulu_dawn       Fresh   \n",
       "1130015          m/zulu_dawn      Rotten   \n",
       "1130016          m/zulu_dawn      Rotten   \n",
       "\n",
       "                                            cleaned_review  \\\n",
       "0        fantasy adventure fuse greek mythology contemp...   \n",
       "1        uma thurman medusa gorgon coiffure writhing sn...   \n",
       "2        topnotch cast dazzling special effect tide tee...   \n",
       "3        whether audience get behind lightning thief ha...   \n",
       "4        whats really lacking lightning thief genuine s...   \n",
       "...                                                    ...   \n",
       "1130012                                                NaN   \n",
       "1130013  seen today startling indictment british imperi...   \n",
       "1130014  rousing visual spectacle thats prequel cy endf...   \n",
       "1130015  simple twoact story prelude war war former con...   \n",
       "1130016  ride line pure artifact bygone eraone depicts ...   \n",
       "\n",
       "                                               movie_title  \n",
       "0        Percy Jackson & the Olympians: The Lightning T...  \n",
       "1        Percy Jackson & the Olympians: The Lightning T...  \n",
       "2        Percy Jackson & the Olympians: The Lightning T...  \n",
       "3        Percy Jackson & the Olympians: The Lightning T...  \n",
       "4        Percy Jackson & the Olympians: The Lightning T...  \n",
       "...                                                    ...  \n",
       "1130012                                          Zulu Dawn  \n",
       "1130013                                          Zulu Dawn  \n",
       "1130014                                          Zulu Dawn  \n",
       "1130015                                          Zulu Dawn  \n",
       "1130016                                          Zulu Dawn  \n",
       "\n",
       "[1130017 rows x 4 columns]"
      ]
     },
     "execution_count": 5,
     "metadata": {},
     "output_type": "execute_result"
    }
   ],
   "source": [
    "clean_df = pd.read_csv(\"/Users/karliebaxter/Downloads/rt_reviews_cleaned_with_names.csv\")\n",
    "clean_df"
   ]
  }
 ],
 "metadata": {
  "kernelspec": {
   "display_name": "base",
   "language": "python",
   "name": "python3"
  },
  "language_info": {
   "codemirror_mode": {
    "name": "ipython",
    "version": 3
   },
   "file_extension": ".py",
   "mimetype": "text/x-python",
   "name": "python",
   "nbconvert_exporter": "python",
   "pygments_lexer": "ipython3",
   "version": "3.11.5"
  }
 },
 "nbformat": 4,
 "nbformat_minor": 2
}
