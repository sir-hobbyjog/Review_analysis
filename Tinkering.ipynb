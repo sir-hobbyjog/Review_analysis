{
 "cells": [
  {
   "cell_type": "code",
   "execution_count": 1,
   "metadata": {},
   "outputs": [
    {
     "name": "stdout",
     "output_type": "stream",
     "text": [
      "Requirement already satisfied: openai==0.28 in /Users/karliebaxter/anaconda3/lib/python3.11/site-packages (0.28.0)\n",
      "Requirement already satisfied: requests>=2.20 in /Users/karliebaxter/anaconda3/lib/python3.11/site-packages (from openai==0.28) (2.31.0)\n",
      "Requirement already satisfied: tqdm in /Users/karliebaxter/anaconda3/lib/python3.11/site-packages (from openai==0.28) (4.65.0)\n",
      "Requirement already satisfied: aiohttp in /Users/karliebaxter/anaconda3/lib/python3.11/site-packages (from openai==0.28) (3.9.0)\n",
      "Requirement already satisfied: charset-normalizer<4,>=2 in /Users/karliebaxter/anaconda3/lib/python3.11/site-packages (from requests>=2.20->openai==0.28) (2.0.4)\n",
      "Requirement already satisfied: idna<4,>=2.5 in /Users/karliebaxter/anaconda3/lib/python3.11/site-packages (from requests>=2.20->openai==0.28) (3.4)\n",
      "Requirement already satisfied: urllib3<3,>=1.21.1 in /Users/karliebaxter/anaconda3/lib/python3.11/site-packages (from requests>=2.20->openai==0.28) (2.2.1)\n",
      "Requirement already satisfied: certifi>=2017.4.17 in /Users/karliebaxter/anaconda3/lib/python3.11/site-packages (from requests>=2.20->openai==0.28) (2024.2.2)\n",
      "Requirement already satisfied: attrs>=17.3.0 in /Users/karliebaxter/anaconda3/lib/python3.11/site-packages (from aiohttp->openai==0.28) (23.1.0)\n",
      "Requirement already satisfied: multidict<7.0,>=4.5 in /Users/karliebaxter/anaconda3/lib/python3.11/site-packages (from aiohttp->openai==0.28) (6.0.4)\n",
      "Requirement already satisfied: yarl<2.0,>=1.0 in /Users/karliebaxter/anaconda3/lib/python3.11/site-packages (from aiohttp->openai==0.28) (1.9.3)\n",
      "Requirement already satisfied: frozenlist>=1.1.1 in /Users/karliebaxter/anaconda3/lib/python3.11/site-packages (from aiohttp->openai==0.28) (1.4.0)\n",
      "Requirement already satisfied: aiosignal>=1.1.2 in /Users/karliebaxter/anaconda3/lib/python3.11/site-packages (from aiohttp->openai==0.28) (1.2.0)\n"
     ]
    }
   ],
   "source": [
    "\n",
    "!pip install openai==0.28\n"
   ]
  },
  {
   "cell_type": "code",
   "execution_count": 2,
   "metadata": {},
   "outputs": [
    {
     "name": "stderr",
     "output_type": "stream",
     "text": [
      "/Users/karliebaxter/anaconda3/lib/python3.11/site-packages/pandas/core/arrays/masked.py:60: UserWarning: Pandas requires version '1.3.6' or newer of 'bottleneck' (version '1.3.5' currently installed).\n",
      "  from pandas.core import (\n"
     ]
    }
   ],
   "source": [
    "import pandas as pd\n",
    "import openai\n",
    "from dotenv import load_dotenv\n",
    "import os\n"
   ]
  },
  {
   "cell_type": "code",
   "execution_count": 5,
   "metadata": {},
   "outputs": [],
   "source": [
    "load_dotenv(\"/Users/karliebaxter/Desktop/.env\")\n",
    "\n",
    "# Set the model name for our LLMs.\n",
    "model = \"gpt-4o\"\n",
    "# Store the API key in a variable.\n",
    "openai.api_key = os.getenv(\"OPENAI_API_KEY\")\n",
    "\n"
   ]
  },
  {
   "cell_type": "code",
   "execution_count": 17,
   "metadata": {},
   "outputs": [
    {
     "ename": "SyntaxError",
     "evalue": "invalid syntax. Maybe you meant '==' or ':=' instead of '='? (2383437307.py, line 16)",
     "output_type": "error",
     "traceback": [
      "\u001b[0;36m  Cell \u001b[0;32mIn[17], line 16\u001b[0;36m\u001b[0m\n\u001b[0;31m    results = []\u001b[0m\n\u001b[0m    ^\u001b[0m\n\u001b[0;31mSyntaxError\u001b[0m\u001b[0;31m:\u001b[0m invalid syntax. Maybe you meant '==' or ':=' instead of '='?\n"
     ]
    }
   ],
   "source": [
    "# List of reviews\n",
    "reviews = [\n",
    "      \"This product is amazing! I highly recommend it.\",\n",
    "      \"The customer service was terrible. I had a bad experience.\",\n",
    "      \"I'm satisfied with my purchase. The quality is great.\",\n",
    "      \"The delivery was delayed and the packaging was damaged.\",\n",
    "      \"I love this brand. Their products never disappoint.\"\n",
    "    ]\n",
    "# initialize chatgpt\n",
    "chatgpt = openai.ChatCompletion.create(model=model,\n",
    "  messages=[\n",
    "    {\"role\": \"system\", \"content\": \"You are a helpful assistant.\"},\n",
    "    \n",
    "\n",
    "    # Initialize an empty list to store the results\n",
    "    results = []\n",
    "\n",
    "    # Iterate over each review\n",
    "    for review in reviews:\n",
    "      # Send the review to OpenAI for summarization\n",
    "      response = openai.ChatCompletion.create(\n",
    "        model=model,\n",
    "        messages=[\n",
    "          {\"role\": \"system\", \"content\": \"You are a helpful assistant.\"},\n",
    "          {\"role\": \"user\", \"content\": review}\n",
    "        ]\n",
    "      )\n",
    "      \n",
    "      # Extract the assistant's response\n",
    "      summary = response.choices[0].message['content']\n",
    "      \n",
    "      # Perform rating and sentiment analysis (you can use your preferred libraries for this)\n",
    "      rating = perform_rating_analysis(review)\n",
    "      sentiment = perform_sentiment_analysis(review)\n",
    "      \n",
    "      # Store the results in a dictionary\n",
    "      result = {\n",
    "        \"review\": review,\n",
    "        \"summary\": summary,\n",
    "        \"rating\": rating,\n",
    "        \"sentiment\": sentiment\n",
    "      }\n",
    "      \n",
    "      # Append the result to the list\n",
    "      results.append(result)\n",
    "\n",
    "    # Print the results\n",
    "    for result in results:\n",
    "      print(result)\n",
    "    {\"role\": \"assistant\", \"content\": \"Of course! I'd be happy to help. What do you need assistance with?\"}\n",
    "  ]\n",
    ")\n"
   ]
  },
  {
   "cell_type": "code",
   "execution_count": 9,
   "metadata": {},
   "outputs": [
    {
     "name": "stdout",
     "output_type": "stream",
     "text": [
      "Of course! Please provide the reviews you would like me to summarize.\n"
     ]
    }
   ],
   "source": [
    "print(chatgpt.choices[0].message['content'])"
   ]
  },
  {
   "cell_type": "code",
   "execution_count": 7,
   "metadata": {},
   "outputs": [
    {
     "data": {
      "text/html": [
       "<div>\n",
       "<style scoped>\n",
       "    .dataframe tbody tr th:only-of-type {\n",
       "        vertical-align: middle;\n",
       "    }\n",
       "\n",
       "    .dataframe tbody tr th {\n",
       "        vertical-align: top;\n",
       "    }\n",
       "\n",
       "    .dataframe thead th {\n",
       "        text-align: right;\n",
       "    }\n",
       "</style>\n",
       "<table border=\"1\" class=\"dataframe\">\n",
       "  <thead>\n",
       "    <tr style=\"text-align: right;\">\n",
       "      <th></th>\n",
       "      <th>rotten_tomatoes_link</th>\n",
       "      <th>review_type</th>\n",
       "      <th>cleaned_review</th>\n",
       "      <th>movie_title</th>\n",
       "    </tr>\n",
       "  </thead>\n",
       "  <tbody>\n",
       "    <tr>\n",
       "      <th>0</th>\n",
       "      <td>m/0814255</td>\n",
       "      <td>Fresh</td>\n",
       "      <td>fantasy adventure fuse greek mythology contemp...</td>\n",
       "      <td>Percy Jackson &amp; the Olympians: The Lightning T...</td>\n",
       "    </tr>\n",
       "    <tr>\n",
       "      <th>1</th>\n",
       "      <td>m/0814255</td>\n",
       "      <td>Fresh</td>\n",
       "      <td>uma thurman medusa gorgon coiffure writhing sn...</td>\n",
       "      <td>Percy Jackson &amp; the Olympians: The Lightning T...</td>\n",
       "    </tr>\n",
       "    <tr>\n",
       "      <th>2</th>\n",
       "      <td>m/0814255</td>\n",
       "      <td>Fresh</td>\n",
       "      <td>topnotch cast dazzling special effect tide tee...</td>\n",
       "      <td>Percy Jackson &amp; the Olympians: The Lightning T...</td>\n",
       "    </tr>\n",
       "    <tr>\n",
       "      <th>3</th>\n",
       "      <td>m/0814255</td>\n",
       "      <td>Fresh</td>\n",
       "      <td>whether audience get behind lightning thief ha...</td>\n",
       "      <td>Percy Jackson &amp; the Olympians: The Lightning T...</td>\n",
       "    </tr>\n",
       "    <tr>\n",
       "      <th>4</th>\n",
       "      <td>m/0814255</td>\n",
       "      <td>Rotten</td>\n",
       "      <td>whats really lacking lightning thief genuine s...</td>\n",
       "      <td>Percy Jackson &amp; the Olympians: The Lightning T...</td>\n",
       "    </tr>\n",
       "    <tr>\n",
       "      <th>...</th>\n",
       "      <td>...</td>\n",
       "      <td>...</td>\n",
       "      <td>...</td>\n",
       "      <td>...</td>\n",
       "    </tr>\n",
       "    <tr>\n",
       "      <th>1130012</th>\n",
       "      <td>m/zulu_dawn</td>\n",
       "      <td>Rotten</td>\n",
       "      <td>NaN</td>\n",
       "      <td>Zulu Dawn</td>\n",
       "    </tr>\n",
       "    <tr>\n",
       "      <th>1130013</th>\n",
       "      <td>m/zulu_dawn</td>\n",
       "      <td>Fresh</td>\n",
       "      <td>seen today startling indictment british imperi...</td>\n",
       "      <td>Zulu Dawn</td>\n",
       "    </tr>\n",
       "    <tr>\n",
       "      <th>1130014</th>\n",
       "      <td>m/zulu_dawn</td>\n",
       "      <td>Fresh</td>\n",
       "      <td>rousing visual spectacle thats prequel cy endf...</td>\n",
       "      <td>Zulu Dawn</td>\n",
       "    </tr>\n",
       "    <tr>\n",
       "      <th>1130015</th>\n",
       "      <td>m/zulu_dawn</td>\n",
       "      <td>Rotten</td>\n",
       "      <td>simple twoact story prelude war war former con...</td>\n",
       "      <td>Zulu Dawn</td>\n",
       "    </tr>\n",
       "    <tr>\n",
       "      <th>1130016</th>\n",
       "      <td>m/zulu_dawn</td>\n",
       "      <td>Rotten</td>\n",
       "      <td>ride line pure artifact bygone eraone depicts ...</td>\n",
       "      <td>Zulu Dawn</td>\n",
       "    </tr>\n",
       "  </tbody>\n",
       "</table>\n",
       "<p>1130017 rows × 4 columns</p>\n",
       "</div>"
      ],
      "text/plain": [
       "        rotten_tomatoes_link review_type  \\\n",
       "0                  m/0814255       Fresh   \n",
       "1                  m/0814255       Fresh   \n",
       "2                  m/0814255       Fresh   \n",
       "3                  m/0814255       Fresh   \n",
       "4                  m/0814255      Rotten   \n",
       "...                      ...         ...   \n",
       "1130012          m/zulu_dawn      Rotten   \n",
       "1130013          m/zulu_dawn       Fresh   \n",
       "1130014          m/zulu_dawn       Fresh   \n",
       "1130015          m/zulu_dawn      Rotten   \n",
       "1130016          m/zulu_dawn      Rotten   \n",
       "\n",
       "                                            cleaned_review  \\\n",
       "0        fantasy adventure fuse greek mythology contemp...   \n",
       "1        uma thurman medusa gorgon coiffure writhing sn...   \n",
       "2        topnotch cast dazzling special effect tide tee...   \n",
       "3        whether audience get behind lightning thief ha...   \n",
       "4        whats really lacking lightning thief genuine s...   \n",
       "...                                                    ...   \n",
       "1130012                                                NaN   \n",
       "1130013  seen today startling indictment british imperi...   \n",
       "1130014  rousing visual spectacle thats prequel cy endf...   \n",
       "1130015  simple twoact story prelude war war former con...   \n",
       "1130016  ride line pure artifact bygone eraone depicts ...   \n",
       "\n",
       "                                               movie_title  \n",
       "0        Percy Jackson & the Olympians: The Lightning T...  \n",
       "1        Percy Jackson & the Olympians: The Lightning T...  \n",
       "2        Percy Jackson & the Olympians: The Lightning T...  \n",
       "3        Percy Jackson & the Olympians: The Lightning T...  \n",
       "4        Percy Jackson & the Olympians: The Lightning T...  \n",
       "...                                                    ...  \n",
       "1130012                                          Zulu Dawn  \n",
       "1130013                                          Zulu Dawn  \n",
       "1130014                                          Zulu Dawn  \n",
       "1130015                                          Zulu Dawn  \n",
       "1130016                                          Zulu Dawn  \n",
       "\n",
       "[1130017 rows x 4 columns]"
      ]
     },
     "execution_count": 7,
     "metadata": {},
     "output_type": "execute_result"
    }
   ],
   "source": [
    "clean_df = pd.read_csv(\"/Users/karliebaxter/Downloads/rt_reviews_cleaned_with_names.csv\")\n",
    "clean_df"
   ]
  }
 ],
 "metadata": {
  "kernelspec": {
   "display_name": "base",
   "language": "python",
   "name": "python3"
  },
  "language_info": {
   "codemirror_mode": {
    "name": "ipython",
    "version": 3
   },
   "file_extension": ".py",
   "mimetype": "text/x-python",
   "name": "python",
   "nbconvert_exporter": "python",
   "pygments_lexer": "ipython3",
   "version": "3.11.5"
  }
 },
 "nbformat": 4,
 "nbformat_minor": 2
}
