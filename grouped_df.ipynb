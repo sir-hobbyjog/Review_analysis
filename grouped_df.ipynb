{
 "cells": [
  {
   "cell_type": "code",
   "execution_count": 24,
   "metadata": {},
   "outputs": [],
   "source": [
    "import pandas as pd\n",
    "import numpy as np"
   ]
  },
  {
   "cell_type": "code",
   "execution_count": 25,
   "metadata": {},
   "outputs": [],
   "source": [
    "# Load the data\n",
    "df = pd.read_csv(r\"C:\\Users\\deers\\OneDrive\\Desktop\\rt_reviews_cleaned_with_names.csv\")\n",
    "\n",
    "# Drop the rows with missing values in the movie_title and cleaned_review columns\n",
    "df = df.dropna(subset=['movie_title', 'cleaned_review'])\n",
    "\n",
    "# Convert the movie_title and cleaned_review to string\n",
    "df['movie_title'] = df['movie_title'].astype(str)\n",
    "df['cleaned_review'] = df['cleaned_review'].astype(str)"
   ]
  },
  {
   "cell_type": "code",
   "execution_count": 26,
   "metadata": {},
   "outputs": [
    {
     "data": {
      "text/html": [
       "<div>\n",
       "<style scoped>\n",
       "    .dataframe tbody tr th:only-of-type {\n",
       "        vertical-align: middle;\n",
       "    }\n",
       "\n",
       "    .dataframe tbody tr th {\n",
       "        vertical-align: top;\n",
       "    }\n",
       "\n",
       "    .dataframe thead th {\n",
       "        text-align: right;\n",
       "    }\n",
       "</style>\n",
       "<table border=\"1\" class=\"dataframe\">\n",
       "  <thead>\n",
       "    <tr style=\"text-align: right;\">\n",
       "      <th></th>\n",
       "      <th>rotten_tomatoes_link</th>\n",
       "      <th>review_type</th>\n",
       "      <th>cleaned_review</th>\n",
       "      <th>movie_title</th>\n",
       "    </tr>\n",
       "  </thead>\n",
       "  <tbody>\n",
       "    <tr>\n",
       "      <th>0</th>\n",
       "      <td>m/0814255</td>\n",
       "      <td>Fresh</td>\n",
       "      <td>fantasy adventure fuse greek mythology contemp...</td>\n",
       "      <td>Percy Jackson &amp; the Olympians: The Lightning T...</td>\n",
       "    </tr>\n",
       "    <tr>\n",
       "      <th>1</th>\n",
       "      <td>m/0814255</td>\n",
       "      <td>Fresh</td>\n",
       "      <td>uma thurman medusa gorgon coiffure writhing sn...</td>\n",
       "      <td>Percy Jackson &amp; the Olympians: The Lightning T...</td>\n",
       "    </tr>\n",
       "    <tr>\n",
       "      <th>2</th>\n",
       "      <td>m/0814255</td>\n",
       "      <td>Fresh</td>\n",
       "      <td>topnotch cast dazzling special effect tide tee...</td>\n",
       "      <td>Percy Jackson &amp; the Olympians: The Lightning T...</td>\n",
       "    </tr>\n",
       "    <tr>\n",
       "      <th>3</th>\n",
       "      <td>m/0814255</td>\n",
       "      <td>Fresh</td>\n",
       "      <td>whether audience get behind lightning thief ha...</td>\n",
       "      <td>Percy Jackson &amp; the Olympians: The Lightning T...</td>\n",
       "    </tr>\n",
       "    <tr>\n",
       "      <th>4</th>\n",
       "      <td>m/0814255</td>\n",
       "      <td>Rotten</td>\n",
       "      <td>whats really lacking lightning thief genuine s...</td>\n",
       "      <td>Percy Jackson &amp; the Olympians: The Lightning T...</td>\n",
       "    </tr>\n",
       "    <tr>\n",
       "      <th>...</th>\n",
       "      <td>...</td>\n",
       "      <td>...</td>\n",
       "      <td>...</td>\n",
       "      <td>...</td>\n",
       "    </tr>\n",
       "    <tr>\n",
       "      <th>1130008</th>\n",
       "      <td>m/zulu</td>\n",
       "      <td>Fresh</td>\n",
       "      <td>rousing reconstruction battle rorkes drift</td>\n",
       "      <td>Zulu</td>\n",
       "    </tr>\n",
       "    <tr>\n",
       "      <th>1130013</th>\n",
       "      <td>m/zulu_dawn</td>\n",
       "      <td>Fresh</td>\n",
       "      <td>seen today startling indictment british imperi...</td>\n",
       "      <td>Zulu Dawn</td>\n",
       "    </tr>\n",
       "    <tr>\n",
       "      <th>1130014</th>\n",
       "      <td>m/zulu_dawn</td>\n",
       "      <td>Fresh</td>\n",
       "      <td>rousing visual spectacle thats prequel cy endf...</td>\n",
       "      <td>Zulu Dawn</td>\n",
       "    </tr>\n",
       "    <tr>\n",
       "      <th>1130015</th>\n",
       "      <td>m/zulu_dawn</td>\n",
       "      <td>Rotten</td>\n",
       "      <td>simple twoact story prelude war war former con...</td>\n",
       "      <td>Zulu Dawn</td>\n",
       "    </tr>\n",
       "    <tr>\n",
       "      <th>1130016</th>\n",
       "      <td>m/zulu_dawn</td>\n",
       "      <td>Rotten</td>\n",
       "      <td>ride line pure artifact bygone eraone depicts ...</td>\n",
       "      <td>Zulu Dawn</td>\n",
       "    </tr>\n",
       "  </tbody>\n",
       "</table>\n",
       "<p>1064013 rows × 4 columns</p>\n",
       "</div>"
      ],
      "text/plain": [
       "        rotten_tomatoes_link review_type  \\\n",
       "0                  m/0814255       Fresh   \n",
       "1                  m/0814255       Fresh   \n",
       "2                  m/0814255       Fresh   \n",
       "3                  m/0814255       Fresh   \n",
       "4                  m/0814255      Rotten   \n",
       "...                      ...         ...   \n",
       "1130008               m/zulu       Fresh   \n",
       "1130013          m/zulu_dawn       Fresh   \n",
       "1130014          m/zulu_dawn       Fresh   \n",
       "1130015          m/zulu_dawn      Rotten   \n",
       "1130016          m/zulu_dawn      Rotten   \n",
       "\n",
       "                                            cleaned_review  \\\n",
       "0        fantasy adventure fuse greek mythology contemp...   \n",
       "1        uma thurman medusa gorgon coiffure writhing sn...   \n",
       "2        topnotch cast dazzling special effect tide tee...   \n",
       "3        whether audience get behind lightning thief ha...   \n",
       "4        whats really lacking lightning thief genuine s...   \n",
       "...                                                    ...   \n",
       "1130008         rousing reconstruction battle rorkes drift   \n",
       "1130013  seen today startling indictment british imperi...   \n",
       "1130014  rousing visual spectacle thats prequel cy endf...   \n",
       "1130015  simple twoact story prelude war war former con...   \n",
       "1130016  ride line pure artifact bygone eraone depicts ...   \n",
       "\n",
       "                                               movie_title  \n",
       "0        Percy Jackson & the Olympians: The Lightning T...  \n",
       "1        Percy Jackson & the Olympians: The Lightning T...  \n",
       "2        Percy Jackson & the Olympians: The Lightning T...  \n",
       "3        Percy Jackson & the Olympians: The Lightning T...  \n",
       "4        Percy Jackson & the Olympians: The Lightning T...  \n",
       "...                                                    ...  \n",
       "1130008                                               Zulu  \n",
       "1130013                                          Zulu Dawn  \n",
       "1130014                                          Zulu Dawn  \n",
       "1130015                                          Zulu Dawn  \n",
       "1130016                                          Zulu Dawn  \n",
       "\n",
       "[1064013 rows x 4 columns]"
      ]
     },
     "execution_count": 26,
     "metadata": {},
     "output_type": "execute_result"
    }
   ],
   "source": [
    "df"
   ]
  },
  {
   "cell_type": "code",
   "execution_count": 27,
   "metadata": {},
   "outputs": [],
   "source": [
    "# Drop the rows with missing values in the movie_title and cleaned_review columns\n",
    "df = df.dropna(subset=['movie_title', 'cleaned_review'], how='any')\n",
    "\n",
    "\n",
    "# Convert the movie_title and cleaned_review to string\n",
    "df['movie_title'] = df['movie_title'].astype(str, errors='ignore')\n",
    "df['cleaned_review'] = df['cleaned_review'].astype(str, errors='ignore')\n",
    "\n"
   ]
  },
  {
   "cell_type": "code",
   "execution_count": 28,
   "metadata": {},
   "outputs": [],
   "source": [
    "# Drop movies with less than x reviews\n",
    "df = df.groupby('movie_title').filter(lambda x: len(x) >= 370)"
   ]
  },
  {
   "cell_type": "code",
   "execution_count": 29,
   "metadata": {},
   "outputs": [
    {
     "data": {
      "text/plain": [
       "(100966, 4)"
      ]
     },
     "execution_count": 29,
     "metadata": {},
     "output_type": "execute_result"
    }
   ],
   "source": [
    "df.shape"
   ]
  },
  {
   "cell_type": "code",
   "execution_count": 30,
   "metadata": {},
   "outputs": [
    {
     "name": "stdout",
     "output_type": "stream",
     "text": [
      "207\n"
     ]
    }
   ],
   "source": [
    "# print how many movies are left\n",
    "print(len(df['movie_title'].unique()))"
   ]
  },
  {
   "cell_type": "code",
   "execution_count": 31,
   "metadata": {},
   "outputs": [
    {
     "data": {
      "text/plain": [
       "movie_title\n",
       "Star Wars: The Rise of Skywalker    992\n",
       "Solo: A Star Wars Story             948\n",
       "Star Wars: The Last Jedi            946\n",
       "Rogue One: A Star Wars Story        892\n",
       "Spider-Man: Far From Home           880\n",
       "Name: count, dtype: int64"
      ]
     },
     "execution_count": 31,
     "metadata": {},
     "output_type": "execute_result"
    }
   ],
   "source": [
    "# show the top 5 movies with the most reviews\n",
    "df['movie_title'].value_counts().head()"
   ]
  },
  {
   "cell_type": "code",
   "execution_count": 17,
   "metadata": {},
   "outputs": [
    {
     "data": {
      "text/html": [
       "<div>\n",
       "<style scoped>\n",
       "    .dataframe tbody tr th:only-of-type {\n",
       "        vertical-align: middle;\n",
       "    }\n",
       "\n",
       "    .dataframe tbody tr th {\n",
       "        vertical-align: top;\n",
       "    }\n",
       "\n",
       "    .dataframe thead th {\n",
       "        text-align: right;\n",
       "    }\n",
       "</style>\n",
       "<table border=\"1\" class=\"dataframe\">\n",
       "  <thead>\n",
       "    <tr style=\"text-align: right;\">\n",
       "      <th></th>\n",
       "      <th>rotten_tomatoes_link</th>\n",
       "      <th>review_type</th>\n",
       "      <th>cleaned_review</th>\n",
       "      <th>movie_title</th>\n",
       "    </tr>\n",
       "  </thead>\n",
       "  <tbody>\n",
       "    <tr>\n",
       "      <th>2244</th>\n",
       "      <td>m/10006057-moonlight</td>\n",
       "      <td>Fresh</td>\n",
       "      <td>common language two connect instantly perhaps ...</td>\n",
       "      <td>Moonlight</td>\n",
       "    </tr>\n",
       "    <tr>\n",
       "      <th>2245</th>\n",
       "      <td>m/10006057-moonlight</td>\n",
       "      <td>Rotten</td>\n",
       "      <td>contrived rather unpleasant englishlingo thril...</td>\n",
       "      <td>Moonlight</td>\n",
       "    </tr>\n",
       "    <tr>\n",
       "      <th>2246</th>\n",
       "      <td>m/10006057-moonlight</td>\n",
       "      <td>Fresh</td>\n",
       "      <td>van der oest posse sure visual sense lead perf...</td>\n",
       "      <td>Moonlight</td>\n",
       "    </tr>\n",
       "    <tr>\n",
       "      <th>2247</th>\n",
       "      <td>m/10006057-moonlight</td>\n",
       "      <td>Rotten</td>\n",
       "      <td>situation compels keep watching disappointed r...</td>\n",
       "      <td>Moonlight</td>\n",
       "    </tr>\n",
       "    <tr>\n",
       "      <th>2248</th>\n",
       "      <td>m/10006057-moonlight</td>\n",
       "      <td>Fresh</td>\n",
       "      <td>candid never prurient treatment earlyteen sexu...</td>\n",
       "      <td>Moonlight</td>\n",
       "    </tr>\n",
       "  </tbody>\n",
       "</table>\n",
       "</div>"
      ],
      "text/plain": [
       "      rotten_tomatoes_link review_type  \\\n",
       "2244  m/10006057-moonlight       Fresh   \n",
       "2245  m/10006057-moonlight      Rotten   \n",
       "2246  m/10006057-moonlight       Fresh   \n",
       "2247  m/10006057-moonlight      Rotten   \n",
       "2248  m/10006057-moonlight       Fresh   \n",
       "\n",
       "                                         cleaned_review movie_title  \n",
       "2244  common language two connect instantly perhaps ...   Moonlight  \n",
       "2245  contrived rather unpleasant englishlingo thril...   Moonlight  \n",
       "2246  van der oest posse sure visual sense lead perf...   Moonlight  \n",
       "2247  situation compels keep watching disappointed r...   Moonlight  \n",
       "2248  candid never prurient treatment earlyteen sexu...   Moonlight  "
      ]
     },
     "execution_count": 17,
     "metadata": {},
     "output_type": "execute_result"
    }
   ],
   "source": [
    "df.head()\n"
   ]
  },
  {
   "cell_type": "code",
   "execution_count": 18,
   "metadata": {},
   "outputs": [
    {
     "data": {
      "text/plain": [
       "cleaned_review\n",
       "<class 'str'>    100966\n",
       "Name: count, dtype: int64"
      ]
     },
     "execution_count": 18,
     "metadata": {},
     "output_type": "execute_result"
    }
   ],
   "source": [
    "# see if everything in the cleaned_review column is a string\n",
    "df['cleaned_review'].apply(type).value_counts()"
   ]
  },
  {
   "cell_type": "code",
   "execution_count": 19,
   "metadata": {},
   "outputs": [],
   "source": [
    "# Save the cleaned data\n",
    "df.to_csv(\"rt_reviews_cleaned_with_names.csv\", index=False)\n",
    "\n"
   ]
  }
 ],
 "metadata": {
  "kernelspec": {
   "display_name": "dev",
   "language": "python",
   "name": "python3"
  },
  "language_info": {
   "codemirror_mode": {
    "name": "ipython",
    "version": 3
   },
   "file_extension": ".py",
   "mimetype": "text/x-python",
   "name": "python",
   "nbconvert_exporter": "python",
   "pygments_lexer": "ipython3",
   "version": "3.10.14"
  }
 },
 "nbformat": 4,
 "nbformat_minor": 2
}
