{
 "cells": [
  {
   "cell_type": "code",
   "execution_count": 1,
   "metadata": {},
   "outputs": [],
   "source": [
    "import pandas as pd\n",
    "import numpy as np"
   ]
  },
  {
   "cell_type": "code",
   "execution_count": 2,
   "metadata": {},
   "outputs": [],
   "source": [
    "# Load the data\n",
    "df = pd.read_csv(r\"C:\\Users\\deers\\OneDrive\\Desktop\\rt_reviews_cleaned_with_names.csv\")\n",
    "\n",
    "# Drop the rows with missing values in the movie_title and cleaned_review columns\n",
    "df = df.dropna(subset=['movie_title', 'cleaned_review'])\n",
    "\n",
    "# Convert the movie_title and cleaned_review to string\n",
    "df['movie_title'] = df['movie_title'].astype(str)\n",
    "df['cleaned_review'] = df['cleaned_review'].astype(str)"
   ]
  },
  {
   "cell_type": "code",
   "execution_count": 3,
   "metadata": {},
   "outputs": [],
   "source": [
    "# Drop the rows with missing values in the movie_title and cleaned_review columns\n",
    "df = df.dropna(subset=['movie_title', 'cleaned_review'], how='any')\n",
    "\n",
    "\n",
    "# Convert the movie_title and cleaned_review to string\n",
    "df['movie_title'] = df['movie_title'].astype(str, errors='ignore')\n",
    "df['cleaned_review'] = df['cleaned_review'].astype(str, errors='ignore')\n",
    "\n"
   ]
  },
  {
   "cell_type": "code",
   "execution_count": 4,
   "metadata": {},
   "outputs": [],
   "source": [
    "# Drop movies with less than x reviews\n",
    "df = df.groupby('movie_title').filter(lambda x: len(x) >= 213)"
   ]
  },
  {
   "cell_type": "code",
   "execution_count": 5,
   "metadata": {},
   "outputs": [
    {
     "data": {
      "text/plain": [
       "(319192, 4)"
      ]
     },
     "execution_count": 5,
     "metadata": {},
     "output_type": "execute_result"
    }
   ],
   "source": [
    "df.shape"
   ]
  },
  {
   "cell_type": "code",
   "execution_count": 6,
   "metadata": {},
   "outputs": [
    {
     "name": "stdout",
     "output_type": "stream",
     "text": [
      "1026\n"
     ]
    }
   ],
   "source": [
    "# print how many movies are left\n",
    "print(len(df['movie_title'].unique()))"
   ]
  },
  {
   "cell_type": "code",
   "execution_count": 7,
   "metadata": {},
   "outputs": [
    {
     "data": {
      "text/html": [
       "<div>\n",
       "<style scoped>\n",
       "    .dataframe tbody tr th:only-of-type {\n",
       "        vertical-align: middle;\n",
       "    }\n",
       "\n",
       "    .dataframe tbody tr th {\n",
       "        vertical-align: top;\n",
       "    }\n",
       "\n",
       "    .dataframe thead th {\n",
       "        text-align: right;\n",
       "    }\n",
       "</style>\n",
       "<table border=\"1\" class=\"dataframe\">\n",
       "  <thead>\n",
       "    <tr style=\"text-align: right;\">\n",
       "      <th></th>\n",
       "      <th>rotten_tomatoes_link</th>\n",
       "      <th>review_type</th>\n",
       "      <th>cleaned_review</th>\n",
       "      <th>movie_title</th>\n",
       "    </tr>\n",
       "  </thead>\n",
       "  <tbody>\n",
       "    <tr>\n",
       "      <th>596</th>\n",
       "      <td>m/1000123-310_to_yuma</td>\n",
       "      <td>Fresh</td>\n",
       "      <td>despite abundance talk film often considered d...</td>\n",
       "      <td>3:10 to Yuma</td>\n",
       "    </tr>\n",
       "    <tr>\n",
       "      <th>598</th>\n",
       "      <td>m/1000123-310_to_yuma</td>\n",
       "      <td>Fresh</td>\n",
       "      <td>fine daves ford collaborative western</td>\n",
       "      <td>3:10 to Yuma</td>\n",
       "    </tr>\n",
       "    <tr>\n",
       "      <th>599</th>\n",
       "      <td>m/1000123-310_to_yuma</td>\n",
       "      <td>Fresh</td>\n",
       "      <td>rather talky always remains lively tense</td>\n",
       "      <td>3:10 to Yuma</td>\n",
       "    </tr>\n",
       "    <tr>\n",
       "      <th>600</th>\n",
       "      <td>m/1000123-310_to_yuma</td>\n",
       "      <td>Fresh</td>\n",
       "      <td>taut western obviously inspired high noon lone...</td>\n",
       "      <td>3:10 to Yuma</td>\n",
       "    </tr>\n",
       "    <tr>\n",
       "      <th>601</th>\n",
       "      <td>m/1000123-310_to_yuma</td>\n",
       "      <td>Fresh</td>\n",
       "      <td>necessity talkative film ford working heflins ...</td>\n",
       "      <td>3:10 to Yuma</td>\n",
       "    </tr>\n",
       "  </tbody>\n",
       "</table>\n",
       "</div>"
      ],
      "text/plain": [
       "      rotten_tomatoes_link review_type  \\\n",
       "596  m/1000123-310_to_yuma       Fresh   \n",
       "598  m/1000123-310_to_yuma       Fresh   \n",
       "599  m/1000123-310_to_yuma       Fresh   \n",
       "600  m/1000123-310_to_yuma       Fresh   \n",
       "601  m/1000123-310_to_yuma       Fresh   \n",
       "\n",
       "                                        cleaned_review   movie_title  \n",
       "596  despite abundance talk film often considered d...  3:10 to Yuma  \n",
       "598              fine daves ford collaborative western  3:10 to Yuma  \n",
       "599           rather talky always remains lively tense  3:10 to Yuma  \n",
       "600  taut western obviously inspired high noon lone...  3:10 to Yuma  \n",
       "601  necessity talkative film ford working heflins ...  3:10 to Yuma  "
      ]
     },
     "execution_count": 7,
     "metadata": {},
     "output_type": "execute_result"
    }
   ],
   "source": [
    "df.head()\n"
   ]
  },
  {
   "cell_type": "code",
   "execution_count": 8,
   "metadata": {},
   "outputs": [
    {
     "data": {
      "text/plain": [
       "cleaned_review\n",
       "<class 'str'>    319192\n",
       "Name: count, dtype: int64"
      ]
     },
     "execution_count": 8,
     "metadata": {},
     "output_type": "execute_result"
    }
   ],
   "source": [
    "# see if everything in the cleaned_review column is a string\n",
    "df['cleaned_review'].apply(type).value_counts()"
   ]
  },
  {
   "cell_type": "code",
   "execution_count": 123,
   "metadata": {},
   "outputs": [],
   "source": [
    "# Save the cleaned data\n",
    "df.to_csv(\"rt_reviews_cleaned_with_names.csv\", index=False)\n",
    "\n"
   ]
  }
 ],
 "metadata": {
  "kernelspec": {
   "display_name": "dev",
   "language": "python",
   "name": "python3"
  },
  "language_info": {
   "codemirror_mode": {
    "name": "ipython",
    "version": 3
   },
   "file_extension": ".py",
   "mimetype": "text/x-python",
   "name": "python",
   "nbconvert_exporter": "python",
   "pygments_lexer": "ipython3",
   "version": "3.10.14"
  }
 },
 "nbformat": 4,
 "nbformat_minor": 2
}
