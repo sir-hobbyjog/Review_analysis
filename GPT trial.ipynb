{
 "cells": [
  {
   "cell_type": "code",
   "execution_count": null,
   "metadata": {},
   "outputs": [],
   "source": [
    "import pandas as pd\n",
    "import openai\n",
    "import os\n",
    "from dotenv import load_dotenv\n",
    "import json"
   ]
  },
  {
   "cell_type": "code",
   "execution_count": null,
   "metadata": {},
   "outputs": [],
   "source": [
    "# Initialize OpenAI API\n",
    "openai.api_key = os.getenv(\"OPENAI_API_KEY\")\n",
    "\n",
    "# Load your dataset\n",
    "# For the sake of example, let's assume your dataset is a CSV file\n",
    "df = pd.read_csv(\"rt_reviews_cleaned_with_names.csv\")  # Replace with your actual dataset\n",
    "\n",
    "# Group reviews by movie\n",
    "grouped_reviews = df.groupby('movie_title')['cleaned_review'].apply(list).reset_index()\n"
   ]
  },
  {
   "cell_type": "code",
   "execution_count": null,
   "metadata": {},
   "outputs": [],
   "source": [
    "def summarize_reviews(reviews):\n",
    "    # Combine all reviews into a single text block\n",
    "    reviews_text = ' '.join(reviews)\n",
    "    \n",
    "    # Use OpenAI API to summarize the reviews\n",
    "    messages = [\n",
    "        {\"role\": \"system\", \"content\": \"You are a helpful assistant.\"},\n",
    "        {\"role\": \"user\", \"content\": (\n",
    "            \"Summarize the following movie reviews no more than 150 words.\"\n",
    "            \"First, state what the majority of viewers are saying. \"\n",
    "            \"Second, mention what the minority of viewers are saying. \"\n",
    "            \"Finally, provide the overall sentiment of the reviews:\\n\\n\"\n",
    "            f\"{reviews_text}\"\n",
    "        )}\n",
    "    ]\n",
    "    \n",
    "    response = openai.ChatCompletion.create(\n",
    "        model=\"gpt-4\",\n",
    "        messages=messages,\n",
    "        max_tokens=150\n",
    "    )\n",
    "    \n",
    "    summary = response.choices[0].message['content'].strip()\n",
    "    return summary"
   ]
  },
  {
   "cell_type": "code",
   "execution_count": null,
   "metadata": {},
   "outputs": [],
   "source": [
    "# Create a dictionary to store summaries\n",
    "movie_summaries = {}\n",
    "\n",
    "# Iterate over each movie and summarize the reviews\n",
    "for index, row in grouped_reviews.iterrows():\n",
    "    movie_title = row['movie_title']\n",
    "    reviews = row['cleaned_review']\n",
    "    \n",
    "    summary = summarize_reviews(reviews)\n",
    "    movie_summaries[movie_title] = summary\n",
    "    print(f\"Summarized reviews for {movie_title}\")\n",
    "\n",
    "# Save the summaries to a JSON file\n",
    "with open('movie_summaries.json', 'w') as f:\n",
    "    json.dump(movie_summaries, f)\n",
    "\n",
    "print(\"Summarization complete. Summaries saved to movie_summaries.json\")"
   ]
  },
  {
   "cell_type": "code",
   "execution_count": null,
   "metadata": {},
   "outputs": [],
   "source": [
    "print(movie_summaries)"
   ]
  }
 ],
 "metadata": {
  "kernelspec": {
   "display_name": "dev",
   "language": "python",
   "name": "python3"
  },
  "language_info": {
   "codemirror_mode": {
    "name": "ipython",
    "version": 3
   },
   "file_extension": ".py",
   "mimetype": "text/x-python",
   "name": "python",
   "nbconvert_exporter": "python",
   "pygments_lexer": "ipython3",
   "version": "3.10.14"
  }
 },
 "nbformat": 4,
 "nbformat_minor": 2
}
