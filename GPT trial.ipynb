{
 "cells": [
  {
   "cell_type": "code",
   "execution_count": null,
   "metadata": {},
   "outputs": [],
   "source": []
  },
  {
   "cell_type": "code",
   "execution_count": null,
   "metadata": {},
   "outputs": [],
   "source": [
    "import pandas as pd\n",
    "import openai\n",
    "\n",
    "# Load your API key from an environment variable or secret management service\n",
    "from dotenv import load_dotenv\n",
    "load_dotenv()\n",
    "openai.api_key = os.getenv(\"OPENAI_API_KEY\")\n",
    "\n",
    "\n",
    "# Load the CSV file\n",
    "df = pd.read_csv('movies.csv')\n",
    "\n",
    "# Define a function to summarize reviews\n",
    "def summarize_reviews(reviews, ratings):\n",
    "    prompt = f\"The movie has the following reviews: {reviews} and ratings: {ratings}.\"\n",
    "    response = openai.Completion.create(engine=\"text-davinci-002\", prompt=prompt, max_tokens=60)\n",
    "    return response.choices[0].text.strip()\n",
    "\n",
    "# Apply the function to the dataframe\n",
    "df['summary'] = df.apply(lambda row: summarize_reviews(row['reviews'], row['ratings']), axis=1)"
   ]
  }
 ],
 "metadata": {
  "kernelspec": {
   "display_name": "dev",
   "language": "python",
   "name": "python3"
  },
  "language_info": {
   "codemirror_mode": {
    "name": "ipython",
    "version": 3
   },
   "file_extension": ".py",
   "mimetype": "text/x-python",
   "name": "python",
   "nbconvert_exporter": "python",
   "pygments_lexer": "ipython3",
   "version": "3.10.14"
  }
 },
 "nbformat": 4,
 "nbformat_minor": 2
}
