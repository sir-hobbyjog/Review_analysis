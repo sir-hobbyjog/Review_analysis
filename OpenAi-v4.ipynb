{
 "cells": [
  {
   "cell_type": "code",
   "execution_count": 27,
   "metadata": {},
   "outputs": [
    {
     "ename": "AttributeError",
     "evalue": "module 'openai' has no attribute '__version__'",
     "output_type": "error",
     "traceback": [
      "\u001b[1;31m---------------------------------------------------------------------------\u001b[0m",
      "\u001b[1;31mAttributeError\u001b[0m                            Traceback (most recent call last)",
      "Cell \u001b[1;32mIn[27], line 1\u001b[0m\n\u001b[1;32m----> 1\u001b[0m \u001b[38;5;28mprint\u001b[39m(openai\u001b[38;5;241m.\u001b[39m__version__)\n",
      "\u001b[1;31mAttributeError\u001b[0m: module 'openai' has no attribute '__version__'"
     ]
    }
   ],
   "source": []
  },
  {
   "cell_type": "code",
   "execution_count": 23,
   "metadata": {},
   "outputs": [],
   "source": [
    "import pandas as pd\n",
    "import openai\n",
    "import os\n",
    "import json\n",
    "import time\n",
    "from dotenv import load_dotenv\n"
   ]
  },
  {
   "cell_type": "code",
   "execution_count": 24,
   "metadata": {},
   "outputs": [],
   "source": [
    "# Load environment variables\n",
    "load_dotenv()\n",
    "\n",
    "# Initialize OpenAI API\n",
    "openai.api_key = os.getenv(\"OPENAI_API_KEY\")\n",
    "\n",
    "# Load your dataset\n",
    "df = pd.read_csv(\"rt_reviews_with_names_converted_newreviewscore.csv\")\n",
    "\n",
    "# Group reviews by movie\n",
    "grouped_reviews = df.groupby('movie_title')['review_content'].apply(list).reset_index()"
   ]
  },
  {
   "cell_type": "code",
   "execution_count": 25,
   "metadata": {},
   "outputs": [],
   "source": [
    "def count_tokens(text):\n",
    "    # Simple token count approximation\n",
    "    return len(text.split())\n",
    "\n",
    "def summarize_reviews(reviews):\n",
    "    reviews_text = ' '.join(reviews)\n",
    "    reviews_length = count_tokens(reviews_text)\n",
    "\n",
    "    # Use OpenAI API to summarize the reviews\n",
    "    messages = [\n",
    "        {\"role\": \"system\", \"content\": \"You are a helpful assistant.\"},\n",
    "        {\"role\": \"user\", \"content\": (\n",
    "            \"Summarize the following movie reviews in no more than 200 words. \"\n",
    "            \"First, state what most viewers are saying. \"\n",
    "            \"Second, mention what some viewers are saying. \"\n",
    "            \"Third, provide the overall sentiment of the reviews. Be concise and avoid repetition.\"\n",
    "            \"Finally, provide a rating for each movie on a scale of 0-100:\\n\\n\"\n",
    "            f\"{reviews_text}\"\n",
    "        )}\n",
    "    ]\n",
    "\n",
    "    while True:\n",
    "        try:\n",
    "            response = openai.ChatCompletion.create(\n",
    "                model=\"gpt-4o\",\n",
    "                messages=messages,\n",
    "                max_tokens=400\n",
    "            )\n",
    "            break  # Break out of the loop if the request is successful\n",
    "        except openai.error.RateLimitError as e:\n",
    "            # Extract the retry-after time from the error message and sleep for that duration\n",
    "            retry_after = e.headers.get(\"Retry-After\", 60)\n",
    "            print(f\"Rate limit exceeded. Retrying after {retry_after} seconds.\")\n",
    "            time.sleep(float(retry_after))\n",
    "\n",
    "    summary = response.choices[0].message['content'].strip()\n",
    "    return summary, reviews_length\n",
    "\n",
    "def manage_rate_limit(current_tokens, max_tokens_per_minute=25000):\n",
    "    if current_tokens >= max_tokens_per_minute:\n",
    "        sleep_time = 60  # Sleep for 60 seconds to reset the minute window\n",
    "        print(f\"Rate limit exceeded. Sleeping for {sleep_time} seconds.\")\n",
    "        time.sleep(sleep_time)\n",
    "        current_tokens = 0  # Reset token counter after sleeping\n",
    "    return current_tokens"
   ]
  },
  {
   "cell_type": "code",
   "execution_count": 26,
   "metadata": {},
   "outputs": [
    {
     "ename": "AttributeError",
     "evalue": "module 'openai' has no attribute 'ChatCompletion'",
     "output_type": "error",
     "traceback": [
      "\u001b[1;31m---------------------------------------------------------------------------\u001b[0m",
      "\u001b[1;31mAttributeError\u001b[0m                            Traceback (most recent call last)",
      "Cell \u001b[1;32mIn[26], line 12\u001b[0m\n\u001b[0;32m      9\u001b[0m movie_title \u001b[38;5;241m=\u001b[39m row[\u001b[38;5;124m'\u001b[39m\u001b[38;5;124mmovie_title\u001b[39m\u001b[38;5;124m'\u001b[39m]\n\u001b[0;32m     10\u001b[0m reviews \u001b[38;5;241m=\u001b[39m row[\u001b[38;5;124m'\u001b[39m\u001b[38;5;124mreview_content\u001b[39m\u001b[38;5;124m'\u001b[39m]\n\u001b[1;32m---> 12\u001b[0m summary, reviews_length \u001b[38;5;241m=\u001b[39m summarize_reviews(reviews)\n\u001b[0;32m     13\u001b[0m movie_summaries[movie_title] \u001b[38;5;241m=\u001b[39m summary\n\u001b[0;32m     14\u001b[0m \u001b[38;5;28mprint\u001b[39m(\u001b[38;5;124mf\u001b[39m\u001b[38;5;124m\"\u001b[39m\u001b[38;5;124mSummarized reviews for \u001b[39m\u001b[38;5;132;01m{\u001b[39;00mmovie_title\u001b[38;5;132;01m}\u001b[39;00m\u001b[38;5;124m\"\u001b[39m)\n",
      "Cell \u001b[1;32mIn[25], line 24\u001b[0m, in \u001b[0;36msummarize_reviews\u001b[1;34m(reviews)\u001b[0m\n\u001b[0;32m     22\u001b[0m \u001b[38;5;28;01mwhile\u001b[39;00m \u001b[38;5;28;01mTrue\u001b[39;00m:\n\u001b[0;32m     23\u001b[0m     \u001b[38;5;28;01mtry\u001b[39;00m:\n\u001b[1;32m---> 24\u001b[0m         response \u001b[38;5;241m=\u001b[39m openai\u001b[38;5;241m.\u001b[39mChatCompletion\u001b[38;5;241m.\u001b[39mcreate(\n\u001b[0;32m     25\u001b[0m             model\u001b[38;5;241m=\u001b[39m\u001b[38;5;124m\"\u001b[39m\u001b[38;5;124mgpt-4o\u001b[39m\u001b[38;5;124m\"\u001b[39m,\n\u001b[0;32m     26\u001b[0m             messages\u001b[38;5;241m=\u001b[39mmessages,\n\u001b[0;32m     27\u001b[0m             max_tokens\u001b[38;5;241m=\u001b[39m\u001b[38;5;241m400\u001b[39m\n\u001b[0;32m     28\u001b[0m         )\n\u001b[0;32m     29\u001b[0m         \u001b[38;5;28;01mbreak\u001b[39;00m  \u001b[38;5;66;03m# Break out of the loop if the request is successful\u001b[39;00m\n\u001b[0;32m     30\u001b[0m     \u001b[38;5;28;01mexcept\u001b[39;00m openai\u001b[38;5;241m.\u001b[39merror\u001b[38;5;241m.\u001b[39mRateLimitError \u001b[38;5;28;01mas\u001b[39;00m e:\n\u001b[0;32m     31\u001b[0m         \u001b[38;5;66;03m# Extract the retry-after time from the error message and sleep for that duration\u001b[39;00m\n",
      "\u001b[1;31mAttributeError\u001b[0m: module 'openai' has no attribute 'ChatCompletion'"
     ]
    }
   ],
   "source": [
    "# Create a dictionary to store summaries\n",
    "movie_summaries = {}\n",
    "\n",
    "# Token counter\n",
    "current_tokens = 0\n",
    "\n",
    "# Iterate over each movie and summarize the reviews\n",
    "for index, row in grouped_reviews.iterrows():\n",
    "    movie_title = row['movie_title']\n",
    "    reviews = row['review_content']\n",
    "    \n",
    "    summary, reviews_length = summarize_reviews(reviews)\n",
    "    movie_summaries[movie_title] = summary\n",
    "    print(f\"Summarized reviews for {movie_title}\")\n",
    "\n",
    "    # Update the token counter and manage rate limits\n",
    "    current_tokens += reviews_length + 400  # Add the length of the reviews and the max_tokens used for the summary\n",
    "    current_tokens = manage_rate_limit(current_tokens)"
   ]
  },
  {
   "cell_type": "code",
   "execution_count": null,
   "metadata": {},
   "outputs": [
    {
     "name": "stdout",
     "output_type": "stream",
     "text": [
      "Summarization complete. Summaries saved to movie_summaries.json\n"
     ]
    }
   ],
   "source": [
    "# Save the summaries to a JSON file\n",
    "with open('movie_summaries_final.json', 'w') as f:\n",
    "    json.dump(movie_summaries, f)\n",
    "\n",
    "print(\"Summarization complete. Summaries saved to movie_summaries.json\")"
   ]
  }
 ],
 "metadata": {
  "kernelspec": {
   "display_name": "dev",
   "language": "python",
   "name": "python3"
  },
  "language_info": {
   "codemirror_mode": {
    "name": "ipython",
    "version": 3
   },
   "file_extension": ".py",
   "mimetype": "text/x-python",
   "name": "python",
   "nbconvert_exporter": "python",
   "pygments_lexer": "ipython3",
   "version": "3.11.5"
  }
 },
 "nbformat": 4,
 "nbformat_minor": 2
}
